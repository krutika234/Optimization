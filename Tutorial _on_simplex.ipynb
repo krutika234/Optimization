{
 "cells": [
  {
   "cell_type": "markdown",
   "metadata": {},
   "source": [
    "##### The simplex algorithms is the widely used method in the field of linear programming. \n",
    "##### It operates on the canonical form \n",
    "##### Maximize: $ \\mathbf{c^T x}$\n",
    "\n",
    "###### Subject to : $A\\mathbf{x} \\leq \\mathbf{b}$ and $\\mathbf{x}\\geq 0$\n",
    "\n",
    "\n",
    "##### Where $\\mathbf{c}=(c_{1}, c_{2}...) $are the coefficients of the objective function,  $\\mathbf{x}=(x_{1}, x_{2}...) $ are the variables of the problems, A is a pxn matrix of the coefficients and $\\mathbf{b}= (b_{1},b_{2}...) $ are non-negative constraints \n",
    "\n",
    "\n",
    "\n",
    "### Example of simplex programming using SCIPY"
   ]
  },
  {
   "cell_type": "markdown",
   "metadata": {},
   "source": [
    "##### Minimize: \n",
    "\n",
    "$ f = -1*x_{0} + 4*x_{1}$\n",
    "\n",
    "##### Subject to:\n",
    "\n",
    "$-3*x_{0} + 1*x_{1} <= 6$\n",
    "\n",
    "$1*x_{0} + 2*x_{1} <= 4$\n",
    "\n",
    "$x_{1} >= -3$"
   ]
  },
  {
   "cell_type": "code",
   "execution_count": null,
   "metadata": {},
   "outputs": [],
   "source": [
    "!pip install scipy\n"
   ]
  },
  {
   "cell_type": "code",
   "execution_count": 9,
   "metadata": {},
   "outputs": [
    {
     "name": "stdout",
     "output_type": "stream",
     "text": [
      "     fun: -22.0\n",
      " message: 'Optimization terminated successfully.'\n",
      "     nit: 1\n",
      "   slack: array([39.,  0.])\n",
      "  status: 0\n",
      " success: True\n",
      "       x: array([10., -3.])\n"
     ]
    }
   ],
   "source": [
    "from scipy.optimize import linprog\n",
    "c = [-1, 4] # list of coefficients that is need to be maximize/minimize\n",
    "A = [[-3, 1], [1, 2]] # list of coefficients for the constraints. \n",
    "b = [6, 4]\n",
    "x0_bnds = (None, None) # defining the bounds in the form of tuples \n",
    "x1_bnds = (-3, None)\n",
    "res = linprog(c, A, b, bounds=(x0_bnds, x1_bnds), method =\"simplex\")\n",
    "#res = linprog(c, A, b, bounds=(x0_bnds, x1_bnds), method =\"interior-point\") # can be changed to \"revised simplex\", \"interior-point\" method\n",
    "print(res)\n"
   ]
  },
  {
   "cell_type": "markdown",
   "metadata": {},
   "source": [
    "##### The scipy.optimize.linprog returns \n",
    "##### 1. optimal value of the objective function if exist ' fun'.\n",
    "##### 2. Number of iterations required to find the solution 'nit'.\n",
    "##### 3. The independent variable vector which optimizes the linear programming problem 'x : ndarray'\n",
    "##### 4. status :  Returns True if the algorithm succeeded in finding an optimal solution.\n",
    "        0 : Optimization terminated successfully\n",
    "        1 : Iteration limit reached\n",
    "        2 : Problem appears to be infeasible\n",
    "        3 : Problem appears to be unbounded\n",
    "        4 : Serious numerical difficulties encountered"
   ]
  },
  {
   "cell_type": "markdown",
   "metadata": {},
   "source": [
    "###  Example of simplex using pulp\n",
    "#### if you have anaconda then go for the following command \n",
    "    conda install -c conda-forge glpk\n",
    "#### Refer  to this <a href =\"https://stackoverflow.com/questions/17513666/installing-glpk-gnu-linear-programming-kit-on-windows\" >link</a> for the installation of glpk in windows. \n",
    "\n",
    "\n",
    "#### If installation is not possible you can work with pulp that comes up with an interface for glpk \n",
    "\n",
    "\n",
    "\n",
    "\n",
    "**Maximize :**  $Z = 500x + 450y$\n",
    "\n",
    "**St:** \n",
    "\n",
    "$x + 5/6 y <=10$\n",
    "\n",
    "$x +2y <= 15$\n",
    "\n",
    "$x <= 8$\n",
    "\n",
    "$x, y >= 0$\n"
   ]
  },
  {
   "cell_type": "code",
   "execution_count": 11,
   "metadata": {},
   "outputs": [
    {
     "name": "stdout",
     "output_type": "stream",
     "text": [
      "Problem:\n",
      "MAXIMIZE\n",
      "500*x + 450*y + 0\n",
      "SUBJECT TO\n",
      "_C1: x + 0.833333333333 y <= 10\n",
      "\n",
      "_C2: x + 2 y <= 15\n",
      "\n",
      "_C3: x <= 8\n",
      "\n",
      "VARIABLES\n",
      "x Continuous\n",
      "y Continuous\n",
      "\n",
      "Optimal\n",
      "6.42857 4.28571 5142.8544999999995\n"
     ]
    },
    {
     "data": {
      "image/png": "[encoded data removed]",
      "text/plain": [
       "<Figure size 432x288 with 1 Axes>"
      ]
     },
     "metadata": {
      "needs_background": "light"
     },
     "output_type": "display_data"
    }
   ],
   "source": [
    "# By default GLPK use simplex programming to solve the problem\n",
    "# To call the method simplex we will use glpk solver \n",
    "\n",
    "import pulp as p\n",
    "import matplotlib.pyplot as plt #it is used for creating scatter line bars, charts, figure, scatter plots etc.\n",
    "import numpy as np # a whole-some package for performing basic scientific operations \n",
    "\n",
    "\n",
    "\n",
    "Lp_prob = p.LpProblem('Problem', p.LpMaximize)  \n",
    "\n",
    "# Create problem Variables  \n",
    "x = p.LpVariable(\"x\", lowBound = 0)   # Create a variable x >= 0 \n",
    "y = p.LpVariable(\"y\", lowBound = 0)   # Create a variable y >= 0 \n",
    "\n",
    "# Objective Function \n",
    "Lp_prob += 500 * x + 450 * y    \n",
    "\n",
    "# Constraints: \n",
    "Lp_prob += x + 5/6 * y <= 10\n",
    "Lp_prob += x + 2*y <= 15\n",
    "Lp_prob += x <= 8\n",
    "\n",
    "# Display the problem \n",
    "print(Lp_prob) \n",
    "solver= p.GLPK_CMD(path=None, keepFiles=0, mip=1, msg=0)\n",
    "status = Lp_prob.solve(solver)   # Solver GLPK\n",
    "#status = Lp_prob.solve()   # Solver CBC\n",
    "print(p.LpStatus[status])   # The solution status \n",
    "\n",
    "# Printing the final solution \n",
    "print(p.value(x), p.value(y), p.value(Lp_prob.objective)) \n",
    "\n",
    "### for graphical represenation \n",
    "z = np.linspace(0, 600, 10000)\n",
    "#Constraints\n",
    "y1 = (10- z)/(5/6)\n",
    "y2 = (15-z)/2\n",
    "# Make plot\n",
    "plt.plot(z, y1, label=r'$x+5/6y\\leq10$')\n",
    "plt.plot(z, y2, label=r'$x+2y\\leq15$')\n",
    "plt.xlim((0, p.value(x)+ 10))\n",
    "plt.ylim((0, p.value(x)+ 10))\n",
    "#Labelling X and Y axis\n",
    "plt.xlabel(r'$x$')\n",
    "plt.ylabel(r'$y$')\n",
    "# Fill feasible region\n",
    "y5 = np.minimum(y2, y1)\n",
    "plt.fill_between(z, y5, color='pink',alpha=0.5)\n",
    "plt.legend(bbox_to_anchor=(1.5, 1), loc=5, borderaxespad=0.)\n",
    "plt.show()\n",
    "\n"
   ]
  },
  {
   "cell_type": "markdown",
   "metadata": {},
   "source": [
    "### Example using CVXOPT\n",
    "\\begin{array}[t]\n",
    "\\mbox{minimize}   & -4x_1 - 5x_2 \\\\\n",
    "\\mbox{subject to} &  2x_1 + x_2 \\leq 3 \\\\\n",
    "                  & x_1 + 2x_2 \\leq 3 \\\\\n",
    "                  & x_1 \\geq 0, \\quad x_2 \\geq 0.\n",
    "\\end{array}"
   ]
  },
  {
   "cell_type": "code",
   "execution_count": 96,
   "metadata": {},
   "outputs": [
    {
     "name": "stdout",
     "output_type": "stream",
     "text": [
      "[ 1.00e+00]\n",
      "[ 1.00e+00]\n",
      "\n",
      "{'status': 'optimal', 'x': <2x1 matrix, tc='d'>, 's': <4x1 matrix, tc='d'>, 'y': <0x1 matrix, tc='d'>, 'z': <4x1 matrix, tc='d'>, 'primal objective': -9.0, 'dual objective': -9.0, 'gap': 0.0, 'relative gap': 0.0, 'primal infeasibility': 0.0, 'dual infeasibility': 0.0, 'primal slack': 0.0, 'dual slack': -0.0, 'residual as primal infeasibility certificate': None, 'residual as dual infeasibility certificate': None}\n"
     ]
    }
   ],
   "source": [
    "\n",
    "from cvxopt import matrix, solvers\n",
    "c = matrix([-4., -5.])\n",
    "G = matrix([[2., 1., -1., 0.], [1., 2., 0., -1.]])\n",
    "h = matrix([3., 3., 0., 0.])\n",
    "sol = solvers.lp(c, G, h,solver ='glpk')\n",
    "print(sol['x'])\n",
    "print(sol)\n"
   ]
  },
  {
   "cell_type": "code",
   "execution_count": null,
   "metadata": {},
   "outputs": [],
   "source": []
  }
 ],
 "metadata": {
  "kernelspec": {
   "display_name": "Python 3",
   "language": "python",
   "name": "python3"
  },
  "language_info": {
   "codemirror_mode": {
    "name": "ipython",
    "version": 3
   },
   "file_extension": ".py",
   "mimetype": "text/x-python",
   "name": "python",
   "nbconvert_exporter": "python",
   "pygments_lexer": "ipython3",
   "version": "3.7.1"
  }
 },
 "nbformat": 4,
 "nbformat_minor": 2
}
