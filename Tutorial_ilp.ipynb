{
  "nbformat": 4,
  "nbformat_minor": 0,
  "metadata": {
    "colab": {
      "name": "Tutorial_ilp.ipynb",
      "provenance": [],
      "collapsed_sections": [],
      "authorship_tag": "ABX9TyNJI8BaB2mb6n2dQ3Z39LqX",
      "include_colab_link": true
    },
    "kernelspec": {
      "name": "python3",
      "display_name": "Python 3"
    }
  },
  "cells": [
    {
      "cell_type": "markdown",
      "metadata": {
        "id": "view-in-github",
        "colab_type": "text"
      },
      "source": [
        "<a href=\"https://colab.research.google.com/github/krutika234/Optimization/blob/master/Tutorial_ilp.ipynb\" target=\"_parent\"><img src=\"https://colab.research.google.com/assets/colab-badge.svg\" alt=\"Open In Colab\"/></a>"
      ]
    },
    {
      "cell_type": "markdown",
      "metadata": {
        "id": "VZW9g2IxQpNh",
        "colab_type": "text"
      },
      "source": [
        "### Example 1\n",
        "#### <a href = \"https:////developers.google.com/optimization/mip/integer_opt\"> Comparing Linear and Integer Optimization </a>"
      ]
    },
    {
      "cell_type": "code",
      "metadata": {
        "id": "lABoh9BLQpNi",
        "colab_type": "code",
        "colab": {
          "base_uri": "https://localhost:8080/",
          "height": 381
        },
        "outputId": "e3925228-9aae-47a8-c632-a59abc369042"
      },
      "source": [
        "!pip install ortools\n",
        "\n",
        "from __future__ import print_function\n",
        "from ortools.linear_solver import pywraplp\n",
        "\n",
        "\n",
        "def main():\n",
        "    # with MIP solver\n",
        "    # Create the mip solver with the CBC backend.\n",
        "    solver = pywraplp.Solver.CreateSolver('simple_mip_program', 'CBC')\n",
        "\n",
        "\n",
        "    #with the LP solver\n",
        "    #solver = pywraplp.Solver('simple_lp_program', pywraplp.Solver.GLOP_LINEAR_PROGRAMMING)\n",
        "\n",
        "    # integer varibale\n",
        "    infinity = solver.infinity()\n",
        "    # x and y are integer non-negative variables.\n",
        "    x = solver.IntVar(0.0, infinity, 'x')\n",
        "    y = solver.IntVar(0.0, infinity, 'y')\n",
        "\n",
        "    print('Number of variables =', solver.NumVariables())\n",
        "\n",
        "    # replace integer varibale  with continuous variables\n",
        "\n",
        "    #infinity = solver.infinity()\n",
        "    #x = solver.NumVar(0, infinity, 'x')\n",
        "    #y = solver.NumVar(0, infinity, 'y')\n",
        "\n",
        "    print('Number of variables =', solver.NumVariables())\n",
        "\n",
        "    # x + 7 * y <= 17.5.\n",
        "    solver.Add(x + 7 * y <= 17.5)\n",
        "\n",
        "    # x <= 3.5.\n",
        "    solver.Add(x <= 3.5)\n",
        "\n",
        "    print('Number of constraints =', solver.NumConstraints())\n",
        "\n",
        "    # Maximize x + 10 * y.\n",
        "    solver.Maximize(x + 10 * y)\n",
        "\n",
        "    status = solver.Solve()\n",
        "\n",
        "    if status == pywraplp.Solver.OPTIMAL:\n",
        "        print('Solution:')\n",
        "        print('Objective value =', solver.Objective().Value())\n",
        "        print('x =', x.solution_value())\n",
        "        print('y =', y.solution_value())\n",
        "    else:\n",
        "        print('The problem does not have an optimal solution.')\n",
        "\n",
        "    print('\\nAdvanced usage:')\n",
        "    print('Problem solved in %f milliseconds' % solver.wall_time())\n",
        "    print('Problem solved in %d iterations' % solver.iterations())\n",
        "    print('Problem solved in %d branch-and-bound nodes' % solver.nodes())\n",
        "\n",
        "\n",
        "if __name__ == '__main__':\n",
        "    main()"
      ],
      "execution_count": 1,
      "outputs": [
        {
          "output_type": "stream",
          "text": [
            "Collecting ortools\n",
            "\u001b[?25l  Downloading https://files.pythonhosted.org/packages/6c/e9/57ee68e41e02b00836dbe61a4f9679c953623168dcca3a84e2cd16a3e9b2/ortools-7.8.7959-cp36-cp36m-manylinux1_x86_64.whl (32.7MB)\n",
            "\u001b[K     |████████████████████████████████| 32.7MB 121kB/s \n",
            "\u001b[?25hRequirement already satisfied: protobuf>=3.12.2 in /usr/local/lib/python3.6/dist-packages (from ortools) (3.12.4)\n",
            "Requirement already satisfied: six>=1.10 in /usr/local/lib/python3.6/dist-packages (from ortools) (1.15.0)\n",
            "Requirement already satisfied: setuptools in /usr/local/lib/python3.6/dist-packages (from protobuf>=3.12.2->ortools) (49.2.0)\n",
            "Installing collected packages: ortools\n",
            "Successfully installed ortools-7.8.7959\n",
            "Number of variables = 2\n",
            "Number of variables = 2\n",
            "Number of constraints = 2\n",
            "Solution:\n",
            "Objective value = 23.0\n",
            "x = 3.0\n",
            "y = 2.0\n",
            "\n",
            "Advanced usage:\n",
            "Problem solved in 3.000000 milliseconds\n",
            "Problem solved in 1 iterations\n",
            "Problem solved in 0 branch-and-bound nodes\n"
          ],
          "name": "stdout"
        }
      ]
    },
    {
      "cell_type": "markdown",
      "metadata": {
        "id": "GdMxTyhxQpNo",
        "colab_type": "text"
      },
      "source": [
        "### Example 2 \n",
        "#### The 0/1 Knapsack Problem\n",
        "\n",
        "    consider the solution of the 0/1 knapsack problem: given a set I of items, each \n",
        "    one with a weight $w_{i}$ and estimated profit $p_{i}$, one wants to select a subset\n",
        "    with maximum profit such that the summation of the weights of the selected items \n",
        "    is less or equal to the knapsack capacity c. Considering a set of decision binary \n",
        "    variables $x_{i}$ that receive value 1 if the i-th item is selected, \n",
        "    or 0 if not, the resulting mathematical programming formulation is:\n"
      ]
    },
    {
      "cell_type": "markdown",
      "metadata": {
        "id": "dK7ppi_bQpNq",
        "colab_type": "text"
      },
      "source": [
        "\\begin{split}\\textrm{Maximize: }   &  \\\\\n",
        "                               &  \\sum_{i \\in I} p_i \\cdot x_i  \\\\\n",
        "\\textrm{Subject to: } & \\\\\n",
        "                               &  \\sum_{i \\in I} w_i \\cdot x_i \\leq c  \\\\\n",
        "                               &  x_i \\in \\{0,1\\} \\,\\,\\, \\forall i \\in I\\end{split}\n"
      ]
    },
    {
      "cell_type": "code",
      "metadata": {
        "id": "ydAYdWLDQpNr",
        "colab_type": "code",
        "colab": {
          "base_uri": "https://localhost:8080/",
          "height": 145
        },
        "outputId": "a004a8bf-eb06-4093-b808-1334d611fc0a"
      },
      "source": [
        "# install mip library using python \n",
        "!pip install mip\n"
      ],
      "execution_count": 2,
      "outputs": [
        {
          "output_type": "stream",
          "text": [
            "Collecting mip\n",
            "\u001b[?25l  Downloading https://files.pythonhosted.org/packages/6b/65/8a2cdd0f900003c16628421df8c4a381909bd8ab2575d1c23eecdd6d23ed/mip-1.11.0-py3-none-any.whl (47.1MB)\n",
            "\u001b[K     |████████████████████████████████| 47.1MB 94kB/s \n",
            "\u001b[?25hRequirement already satisfied: cffi in /usr/local/lib/python3.6/dist-packages (from mip) (1.14.1)\n",
            "Requirement already satisfied: pycparser in /usr/local/lib/python3.6/dist-packages (from cffi->mip) (2.20)\n",
            "Installing collected packages: mip\n",
            "Successfully installed mip-1.11.0\n"
          ],
          "name": "stdout"
        }
      ]
    },
    {
      "cell_type": "code",
      "metadata": {
        "id": "heYOC7N_QpNw",
        "colab_type": "code",
        "colab": {
          "base_uri": "https://localhost:8080/",
          "height": 35
        },
        "outputId": "6ed4515d-3a9f-4068-b21d-ae228ea1757c"
      },
      "source": [
        "\n",
        "\n",
        "\n",
        "from mip import Model, xsum, maximize, BINARY\n",
        "\n",
        "p = [10, 13, 18, 31, 7, 15] # You can create a large list using 'input'\n",
        "w = [11, 15, 20, 35, 10, 33]\n",
        "c, I = 47, range(len(w))\n",
        "\n",
        "m = Model(\"knapsack\") # calling the model\n",
        "\n",
        "x = [m.add_var(var_type=BINARY) for i in I]\n",
        "\n",
        "m.objective = maximize(xsum(p[i] * x[i] for i in I))\n",
        "\n",
        "m += xsum(w[i] * x[i] for i in I) <= c\n",
        "\n",
        "m.optimize()\n",
        "\n",
        "selected = [i for i in I if x[i].x >= 0.99]\n",
        "print(\"selected items: {}\".format(selected))\n",
        "\n"
      ],
      "execution_count": 3,
      "outputs": [
        {
          "output_type": "stream",
          "text": [
            "selected items: [0, 3]\n"
          ],
          "name": "stdout"
        }
      ]
    },
    {
      "cell_type": "markdown",
      "metadata": {
        "id": "Bn0FzA50QpNz",
        "colab_type": "text"
      },
      "source": [
        "##### The purpose of this example is to illustrate solving ILP problems using GLPK in CVXOPT in Python.\n",
        "### Example 3\n",
        "\n"
      ]
    },
    {
      "cell_type": "code",
      "metadata": {
        "id": "sbCl1DD8QpNz",
        "colab_type": "code",
        "colab": {}
      },
      "source": [
        "from cvxopt.glpk import ilp\n",
        "import numpy as np\n",
        "from cvxopt import matrix"
      ],
      "execution_count": 4,
      "outputs": []
    },
    {
      "cell_type": "markdown",
      "metadata": {
        "id": "r7xDTcx1QpN2",
        "colab_type": "text"
      },
      "source": [
        "We will be trying to solve the following ILP problem:\n",
        "    \n",
        "Min: $ x_0+x_1+x_2+x_3+x_4+x_5$\n",
        "\n",
        "GIven the following constraints:\n",
        "\n",
        "$x_0+x_1\\ge1$\n",
        "\n",
        "$x_0+x_1+x_5\\ge1$\n",
        "\n",
        "$x_2+x_3\\ge1$\n",
        "\n",
        "$x_2+x_3+x_4\\ge1$\n",
        "\n",
        "$x_3+x_4+x_5\\ge1$\n",
        "\n",
        "$x_1+x_4+x_5\\ge1$\n",
        "\n",
        "$x_0,x_1,x_2,x_3,x_4,x_5\\in~Z$\n",
        "\n",
        "\n",
        "\n",
        "##### Now, GLPK ILP solver assumes the following form of the problem.\n",
        "    "
      ]
    },
    {
      "cell_type": "code",
      "metadata": {
        "id": "XYzvM01iQpN3",
        "colab_type": "code",
        "colab": {
          "base_uri": "https://localhost:8080/",
          "height": 781
        },
        "outputId": "b4aa52b1-b872-4f51-ac6f-123055478a39"
      },
      "source": [
        "print(help(ilp))\n"
      ],
      "execution_count": 5,
      "outputs": [
        {
          "output_type": "stream",
          "text": [
            "Help on built-in function ilp in module cvxopt.glpk:\n",
            "\n",
            "ilp(...)\n",
            "    Solves a mixed integer linear program using GLPK.\n",
            "    \n",
            "    (status, x) = ilp(c, G, h, A, b, I, B)\n",
            "    \n",
            "    PURPOSE\n",
            "    Solves the mixed integer linear programming problem\n",
            "    \n",
            "        minimize    c'*x\n",
            "        subject to  G*x <= h\n",
            "                    A*x = b\n",
            "                    x[k] is integer for k in I\n",
            "                    x[k] is binary for k in B\n",
            "    \n",
            "    ARGUMENTS\n",
            "    c            nx1 dense 'd' matrix with n>=1\n",
            "    \n",
            "    G            mxn dense or sparse 'd' matrix with m>=1\n",
            "    \n",
            "    h            mx1 dense 'd' matrix\n",
            "    \n",
            "    A            pxn dense or sparse 'd' matrix with p>=0\n",
            "    \n",
            "    b            px1 dense 'd' matrix\n",
            "    \n",
            "    I            set of indices of integer variables\n",
            "    \n",
            "    B            set of indices of binary variables\n",
            "    \n",
            "    status       if status is 'optimal', 'feasible', or 'undefined',\n",
            "                 a value of x is returned and the status string \n",
            "                 gives the status of x.  Other possible values of              status are:  'invalid formulation', \n",
            "                 'infeasible problem', 'LP relaxation is primal \n",
            "                 infeasible', 'LP relaxation is dual infeasible', \n",
            "                 'unknown'.\n",
            "    \n",
            "    x            a (sub-)optimal solution if status is 'optimal', \n",
            "                 'feasible', or 'undefined'.  None otherwise\n",
            "\n",
            "None\n"
          ],
          "name": "stdout"
        }
      ]
    },
    {
      "cell_type": "markdown",
      "metadata": {
        "id": "euBs_-9cQpN6",
        "colab_type": "text"
      },
      "source": [
        "#### Thus, for the given problem we have\n",
        "\n",
        "    1. c: is a 6*1 matrix (since $x_0,..x_x5$ are the decision variables)\n",
        "    2. G: -1* Coeff. Matrix (Coeff. matrix contains entries $g_{i,j}$ which are either 0 or 1 depending on whether $x_j$ is present in $i^{th}$ constraint or not. **NB**: -1 is needed since the expected form is Gx<=h, whereas we have >= inequalities\n",
        "    3. h: -1* ones(6*1). There are 6 constraints\n",
        "    4. A and b are empty\n",
        "    5. I={0,1,2,3,4,5} since all the decision variables are integer\n",
        "    6. B={} "
      ]
    },
    {
      "cell_type": "code",
      "metadata": {
        "id": "-NwUmIgJQpN7",
        "colab_type": "code",
        "colab": {}
      },
      "source": [
        "c=matrix(np.ones(6,dtype=float))"
      ],
      "execution_count": 6,
      "outputs": []
    },
    {
      "cell_type": "code",
      "metadata": {
        "id": "jj750_ckQpN-",
        "colab_type": "code",
        "colab": {
          "base_uri": "https://localhost:8080/",
          "height": 145
        },
        "outputId": "59cd11cc-694e-4ad8-ab35-f1a5a50f36eb"
      },
      "source": [
        "print(c)"
      ],
      "execution_count": 7,
      "outputs": [
        {
          "output_type": "stream",
          "text": [
            "[ 1.00e+00]\n",
            "[ 1.00e+00]\n",
            "[ 1.00e+00]\n",
            "[ 1.00e+00]\n",
            "[ 1.00e+00]\n",
            "[ 1.00e+00]\n",
            "\n"
          ],
          "name": "stdout"
        }
      ]
    },
    {
      "cell_type": "code",
      "metadata": {
        "id": "putkBhoFQpOC",
        "colab_type": "code",
        "colab": {}
      },
      "source": [
        "coeff=np.array([[1,1,0,0,0,0],\n",
        "                [1,1,0,0,0,1],\n",
        "                [0,0,1,1,0,0],\n",
        "                [0,0,1,1,1,0],\n",
        "                [0,0,0,1,1,1],\n",
        "                [0,1,0,0,1,1]\n",
        "                ],dtype=float)"
      ],
      "execution_count": 8,
      "outputs": []
    },
    {
      "cell_type": "code",
      "metadata": {
        "id": "-R6ERkJ0QpOE",
        "colab_type": "code",
        "colab": {}
      },
      "source": [
        "G=matrix(-coeff)"
      ],
      "execution_count": 9,
      "outputs": []
    },
    {
      "cell_type": "code",
      "metadata": {
        "id": "4h3_nCKzQpOH",
        "colab_type": "code",
        "colab": {
          "base_uri": "https://localhost:8080/",
          "height": 145
        },
        "outputId": "44515901-5f22-402d-c540-874f35affd1e"
      },
      "source": [
        "print (G)"
      ],
      "execution_count": 10,
      "outputs": [
        {
          "output_type": "stream",
          "text": [
            "[-1.00e+00 -1.00e+00 -0.00e+00 -0.00e+00 -0.00e+00 -0.00e+00]\n",
            "[-1.00e+00 -1.00e+00 -0.00e+00 -0.00e+00 -0.00e+00 -1.00e+00]\n",
            "[-0.00e+00 -0.00e+00 -1.00e+00 -1.00e+00 -0.00e+00 -0.00e+00]\n",
            "[-0.00e+00 -0.00e+00 -1.00e+00 -1.00e+00 -1.00e+00 -0.00e+00]\n",
            "[-0.00e+00 -0.00e+00 -0.00e+00 -1.00e+00 -1.00e+00 -1.00e+00]\n",
            "[-0.00e+00 -1.00e+00 -0.00e+00 -0.00e+00 -1.00e+00 -1.00e+00]\n",
            "\n"
          ],
          "name": "stdout"
        }
      ]
    },
    {
      "cell_type": "code",
      "metadata": {
        "id": "Di2dAcvSQpOJ",
        "colab_type": "code",
        "colab": {}
      },
      "source": [
        "h=matrix(-1*np.ones(6))"
      ],
      "execution_count": 11,
      "outputs": []
    },
    {
      "cell_type": "code",
      "metadata": {
        "id": "tG6aFrp4QpOO",
        "colab_type": "code",
        "colab": {}
      },
      "source": [
        "I=set(range(6))"
      ],
      "execution_count": 12,
      "outputs": []
    },
    {
      "cell_type": "code",
      "metadata": {
        "id": "-eONXpwzQpOQ",
        "colab_type": "code",
        "colab": {}
      },
      "source": [
        "B=set()"
      ],
      "execution_count": 13,
      "outputs": []
    },
    {
      "cell_type": "code",
      "metadata": {
        "id": "VFNd-9XAQpOS",
        "colab_type": "code",
        "colab": {
          "base_uri": "https://localhost:8080/",
          "height": 35
        },
        "outputId": "33bcceef-32bc-4c95-8844-d11b6ba15ebc"
      },
      "source": [
        "print(I,B)"
      ],
      "execution_count": 14,
      "outputs": [
        {
          "output_type": "stream",
          "text": [
            "{0, 1, 2, 3, 4, 5} set()\n"
          ],
          "name": "stdout"
        }
      ]
    },
    {
      "cell_type": "code",
      "metadata": {
        "id": "0rSd6YvgQpOV",
        "colab_type": "code",
        "colab": {}
      },
      "source": [
        "(status,x)=ilp(c,G,h,matrix(1., (0,6)),matrix(1., (0,1)),I,B)"
      ],
      "execution_count": 15,
      "outputs": []
    },
    {
      "cell_type": "code",
      "metadata": {
        "id": "Kot7WL8pQpOX",
        "colab_type": "code",
        "colab": {
          "base_uri": "https://localhost:8080/",
          "height": 35
        },
        "outputId": "ad6d876b-fe03-4906-913f-736c8fb204e7"
      },
      "source": [
        "status"
      ],
      "execution_count": 16,
      "outputs": [
        {
          "output_type": "execute_result",
          "data": {
            "application/vnd.google.colaboratory.intrinsic+json": {
              "type": "string"
            },
            "text/plain": [
              "'optimal'"
            ]
          },
          "metadata": {
            "tags": []
          },
          "execution_count": 16
        }
      ]
    },
    {
      "cell_type": "code",
      "metadata": {
        "id": "aRuQLS3BQpOa",
        "colab_type": "code",
        "colab": {
          "base_uri": "https://localhost:8080/",
          "height": 145
        },
        "outputId": "5fe4da1a-c843-4903-a5f9-2164b0913b93"
      },
      "source": [
        "print(x)"
      ],
      "execution_count": 17,
      "outputs": [
        {
          "output_type": "stream",
          "text": [
            "[ 0.00e+00]\n",
            "[ 1.00e+00]\n",
            "[ 0.00e+00]\n",
            "[ 1.00e+00]\n",
            "[ 0.00e+00]\n",
            "[ 0.00e+00]\n",
            "\n"
          ],
          "name": "stdout"
        }
      ]
    },
    {
      "cell_type": "markdown",
      "metadata": {
        "id": "D8USiZ4HQpOd",
        "colab_type": "text"
      },
      "source": [
        "### Example 4 - Mixed Integer Programming \n",
        "\n",
        "#### Mixed/Pure (Linear) Integer Program: an IP (or ILP) s.t. some/all variables are restricted to Z, the others to R."
      ]
    },
    {
      "cell_type": "markdown",
      "metadata": {
        "id": "DBtKArmjQpOd",
        "colab_type": "text"
      },
      "source": [
        "#### Max: $x+y$\n",
        "\n",
        "\n",
        "#### Subject to:  \n",
        "\n",
        "$−$ $2x+2y≥1$\n",
        "\n",
        "$-$ $8x+ 10y≤13$\n",
        "\n",
        "$x,y\\geq0$\n",
        "\n"
      ]
    },
    {
      "cell_type": "code",
      "metadata": {
        "id": "WmQLJLHIQpOe",
        "colab_type": "code",
        "colab": {
          "base_uri": "https://localhost:8080/",
          "height": 326
        },
        "outputId": "7d536011-ed04-4a05-8121-8f0c109a0b68"
      },
      "source": [
        "# pulp is one such library which is used for the optimization of linear programming\n",
        "# import the library pulp \n",
        "!pip install pulp\n",
        "import pulp as p \n",
        "import matplotlib.pyplot as plt #it is used for creating scatter line bars, charts, figure, scatter plots etc.\n",
        "import numpy as np # a whole-some package for performing basic scientific operations "
      ],
      "execution_count": 18,
      "outputs": [
        {
          "output_type": "stream",
          "text": [
            "Collecting pulp\n",
            "\u001b[?25l  Downloading https://files.pythonhosted.org/packages/c3/22/5743d7b5d69f84fb63a0b4925862522dbf80e82defcd0c447afb694f3fd0/PuLP-2.3-py3-none-any.whl (40.6MB)\n",
            "\u001b[K     |████████████████████████████████| 40.6MB 1.8MB/s \n",
            "\u001b[?25hCollecting amply>=0.1.2\n",
            "  Downloading https://files.pythonhosted.org/packages/7f/11/33cb09557ac838d9488779b79e05a2a3c1f3ce9747cd242ba68332736778/amply-0.1.2.tar.gz\n",
            "  Installing build dependencies ... \u001b[?25l\u001b[?25hdone\n",
            "  Getting requirements to build wheel ... \u001b[?25l\u001b[?25hdone\n",
            "    Preparing wheel metadata ... \u001b[?25l\u001b[?25hdone\n",
            "Requirement already satisfied: docutils>=0.3 in /usr/local/lib/python3.6/dist-packages (from amply>=0.1.2->pulp) (0.15.2)\n",
            "Requirement already satisfied: pyparsing in /usr/local/lib/python3.6/dist-packages (from amply>=0.1.2->pulp) (2.4.7)\n",
            "Building wheels for collected packages: amply\n",
            "  Building wheel for amply (PEP 517) ... \u001b[?25l\u001b[?25hdone\n",
            "  Created wheel for amply: filename=amply-0.1.2-cp36-none-any.whl size=16572 sha256=a1cd4ae4b3d52e868799abd9b882b798ab471286b3ad25a53e3fc509b4927ad8\n",
            "  Stored in directory: /root/.cache/pip/wheels/84/18/f7/e5c3ed13ed5bb721763f77d4a924331d59ef115ce61c9d26eb\n",
            "Successfully built amply\n",
            "Installing collected packages: amply, pulp\n",
            "Successfully installed amply-0.1.2 pulp-2.3\n"
          ],
          "name": "stdout"
        }
      ]
    },
    {
      "cell_type": "code",
      "metadata": {
        "id": "umAdDMntQpOg",
        "colab_type": "code",
        "colab": {
          "base_uri": "https://localhost:8080/",
          "height": 272
        },
        "outputId": "a6e4037e-1472-48b8-be18-fce1fe295487"
      },
      "source": [
        "\n",
        "\n",
        "\n",
        "Lp_prob = p.LpProblem('Problem', p.LpMaximize)  \n",
        "\n",
        "# Create problem Variables  \n",
        "x = p.LpVariable(\"x\", lowBound = 0,cat=p.LpInteger)   # Create a variable x >= 0  # integer variable\n",
        "y = p.LpVariable(\"y\", lowBound = 0,cat=p.LpContinuous)   # Create a variable y >= 0 #Continious Variable\n",
        "\n",
        "# Objective Function \n",
        "Lp_prob +=  x +  y    \n",
        "\n",
        "# Constraints: \n",
        "Lp_prob += -2*x + 2 * y >=1 \n",
        "Lp_prob += -8*x + 10*y <= 13\n",
        "\n",
        "\n",
        "# Display the problem \n",
        "print(Lp_prob) \n",
        "\n",
        "status = Lp_prob.solve()   # Solver \n",
        "print(p.LpStatus[status])   # The solution status \n",
        "\n",
        "# Printing the final solution \n",
        "print(p.value(x), p.value(y), p.value(Lp_prob.objective)) \n",
        "\n"
      ],
      "execution_count": 19,
      "outputs": [
        {
          "output_type": "stream",
          "text": [
            "Problem:\n",
            "MAXIMIZE\n",
            "1*x + 1*y + 0\n",
            "SUBJECT TO\n",
            "_C1: - 2 x + 2 y >= 1\n",
            "\n",
            "_C2: - 8 x + 10 y <= 13\n",
            "\n",
            "VARIABLES\n",
            "0 <= x Integer\n",
            "y Continuous\n",
            "\n",
            "Optimal\n",
            "4.0 4.5 8.5\n"
          ],
          "name": "stdout"
        }
      ]
    },
    {
      "cell_type": "code",
      "metadata": {
        "id": "r2U16iwuQpOi",
        "colab_type": "code",
        "colab": {
          "base_uri": "https://localhost:8080/",
          "height": 300
        },
        "outputId": "e5374fd1-b3f6-494f-e369-bd778553c205"
      },
      "source": [
        "%matplotlib inline\n",
        "### for graphical represenation \n",
        "z = np.linspace(0, 200, 100)\n",
        "#Constraints\n",
        "y1 = (1+2*z)/2\n",
        "y2 = (13+8*z)/10\n",
        "# Make plot\n",
        "plt.plot(z, y1, label=r'$-2x+2y\\geq1$')\n",
        "plt.plot(z, y2, label=r'$-8x+10y\\leq13$')\n",
        "plt.xlim(0, 50)\n",
        "plt.ylim(0, 50)\n",
        "#Labelling X and Y axis\n",
        "plt.xlabel(r'$x$')\n",
        "plt.ylabel(r'$y$')\n",
        "# Fill feasible region\n",
        "y5 = np.minimum(y2, y1)\n",
        "plt.fill_between(z, y5, color='pink',alpha=0.5)\n",
        "plt.legend(bbox_to_anchor=(1.5, 1), loc=5, borderaxespad=0.)\n",
        "plt.show()\n"
      ],
      "execution_count": 20,
      "outputs": [
        {
          "output_type": "display_data",
          "data": {
            "image/png": "[encoded data removed]",
            "text/plain": [
              "<Figure size 432x288 with 1 Axes>"
            ]
          },
          "metadata": {
            "tags": [],
            "needs_background": "light"
          }
        }
      ]
    },
    {
      "cell_type": "markdown",
      "metadata": {
        "id": "JFg9w1QPTB7T",
        "colab_type": "text"
      },
      "source": [
        "### Example 5 (For Practice Purpose)\n",
        "\n",
        "#### The Traveling Salesman Problem\n",
        "\n",
        "    considering n points V={0,…,n−1} and a distance matrix Dn×n with elements \n",
        "    ci,j∈R+, a solution consists in a set of exactly n (origin, destination) pairs \n",
        "    indicating the itinerary of your trip, resulting in the following formulation:\n"
      ]
    },
    {
      "cell_type": "markdown",
      "metadata": {
        "id": "N9Pa2iCGTZOb",
        "colab_type": "text"
      },
      "source": [
        "\\begin{split}\\textrm{Minimize: }   &  \\\\\n",
        "&  \\sum_{i \\in I, j \\in I} c_{i,j} \\ldotp x_{i,j} \\\\\n",
        "\\textrm{Subject to: }   &  \\\\\n",
        "& \\sum_{j \\in V \\setminus \\{i\\}} x_{i,j} = 1 \\,\\,\\, \\forall i \\in V  \\\\\n",
        "& \\sum_{i \\in V \\setminus \\{j\\}} x_{i,j} = 1 \\,\\,\\, \\forall j \\in V \\\\\n",
        "& y_{i} -(n+1)\\ldotp x_{i,j} \\geq y_{j} -n  \\,\\,\\, \\forall i \\in V\\setminus \\{0\\}, j \\in V\\setminus \\{0,i\\}\\\\\n",
        "& x_{i,j} \\in \\{0,1\\} \\,\\,\\, \\forall i \\in V, j \\in V \\\\\n",
        "& y_i \\geq 0 \\,\\,\\, \\forall i \\in V\\end{split}"
      ]
    },
    {
      "cell_type": "code",
      "metadata": {
        "colab_type": "code",
        "id": "ff1bjxIqnv91",
        "colab": {
          "base_uri": "https://localhost:8080/",
          "height": 55
        },
        "outputId": "e0c4e285-a0bc-4910-cd93-11fd42a733ca"
      },
      "source": [
        "from itertools import product\n",
        "from sys import stdout as out\n",
        "from mip import Model, xsum, minimize, BINARY\n",
        "\n",
        "# names of places to visit\n",
        "places = ['Antwerp', 'Bruges', 'C-Mine', 'Dinant', 'Ghent',\n",
        "          'Grand-Place de Bruxelles', 'Hasselt', 'Leuven',     #names of the places to visit are informed\n",
        "          'Mechelen', 'Mons', 'Montagne de Bueren', 'Namur',\n",
        "          'Remouchamps', 'Waterloo']\n",
        "\n",
        "# distances in an upper triangular matrix\n",
        "dists = [[83, 81, 113, 52, 42, 73, 44, 23, 91, 105, 90, 124, 57],\n",
        "         [161, 160, 39, 89, 151, 110, 90, 99, 177, 143, 193, 100],     #distances are informed in an upper triangular matrix\n",
        "         [90, 125, 82, 13, 57, 71, 123, 38, 72, 59, 82],\n",
        "         [123, 77, 81, 71, 91, 72, 64, 24, 62, 63],\n",
        "         [51, 114, 72, 54, 69, 139, 105, 155, 62],\n",
        "         [70, 25, 22, 52, 90, 56, 105, 16],\n",
        "         [45, 61, 111, 36, 61, 57, 70],\n",
        "         [23, 71, 67, 48, 85, 29],\n",
        "         [74, 89, 69, 107, 36],\n",
        "         [117, 65, 125, 43],\n",
        "         [54, 22, 84],\n",
        "         [60, 44],\n",
        "         [97],\n",
        "         []]\n",
        "\n",
        "# number of nodes and list of vertices\n",
        "n, V = len(dists), set(range(len(dists)))\n",
        "\n",
        "# distances matrix\n",
        "c = [[0 if i == j\n",
        "      else dists[i][j-i-1] if j > i\n",
        "      else dists[j][i-j-1]\n",
        "      for j in V] for i in V]\n",
        "\n",
        "model = Model() #creates an empty MIP model\n",
        "\n",
        "# binary variables indicating if arc (i,j) is used on the route or not\n",
        "x = [[model.add_var(var_type=BINARY) for j in V] for i in V]\n",
        "\n",
        "# continuous variable to prevent subtours: each city will have a\n",
        "# different sequential id in the planned route except the first one\n",
        "y = [model.add_var() for i in V]\n",
        "\n",
        "# objective function: minimize the distance\n",
        "#all binary decision variables for the selection of arcs are created and their references are stored a n×n matrix named x.\n",
        "model.objective = minimize(xsum(c[i][j]*x[i][j] for i in V for j in V))  \n",
        "\n",
        "\n",
        "#Differently from the x variables, y variables are not required to be binary or integral, \n",
        "#they can be declared just as continuous variables, the default variable type.\n",
        "# constraint : leave each city only once\n",
        "for i in V:\n",
        "    model += xsum(x[i][j] for j in V - {i}) == 1\n",
        "\n",
        "# constraint : enter each city only once\n",
        "for i in V:\n",
        "    model += xsum(x[j][i] for j in V - {i}) == 1\n",
        "\n",
        "# subtour elimination\n",
        "for (i, j) in product(V - {0}, V - {0}):\n",
        "    if i != j:\n",
        "        model += y[i] - (n+1)*x[i][j] >= y[j]-n\n",
        "\n",
        "# optimizing\n",
        "model.optimize()\n",
        "\n",
        "# checking if a solution was found\n",
        "if model.num_solutions:\n",
        "    out.write('route with total distance %g found: %s'\n",
        "              % (model.objective_value, places[0]))\n",
        "    nc = 0\n",
        "    while True:\n",
        "        nc = [i for i in V if x[nc][i].x >= 0.99][0]\n",
        "        out.write(' -> %s' % places[nc])\n",
        "        if nc == 0:\n",
        "            break\n",
        "    out.write('\\n')"
      ],
      "execution_count": 21,
      "outputs": [
        {
          "output_type": "stream",
          "text": [
            "route with total distance 547 found: Antwerp -> Bruges -> Ghent -> Grand-Place de Bruxelles -> Waterloo -> Mons -> Namur -> Dinant -> Remouchamps -> Montagne de Bueren -> C-Mine -> Hasselt -> Leuven -> Mechelen -> Antwerp\n"
          ],
          "name": "stdout"
        }
      ]
    },
    {
      "cell_type": "markdown",
      "metadata": {
        "id": "lX9r7vf-TFuu",
        "colab_type": "text"
      },
      "source": [
        ""
      ]
    }
  ]
}