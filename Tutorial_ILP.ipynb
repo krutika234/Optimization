{
 "cells": [
  {
   "cell_type": "markdown",
   "metadata": {},
   "source": [
    "### Example 1\n",
    "\n",
    "[Comparing Linear and Integer Optimization](https:////developers.google.com/optimization/mip/integer_opt)"
   ]
  },
  {
   "cell_type": "code",
   "execution_count": 25,
   "metadata": {},
   "outputs": [
    {
     "ename": "SyntaxError",
     "evalue": "from __future__ imports must occur at the beginning of the file (cell_name, line 5)",
     "output_type": "error",
     "traceback": [
      "\u001b[1;36m  File \u001b[1;32m\"cell_name\"\u001b[1;36m, line \u001b[1;32m5\u001b[0m\n\u001b[1;31mSyntaxError\u001b[0m\u001b[1;31m:\u001b[0m from __future__ imports must occur at the beginning of the file\n"
     ]
    }
   ],
   "source": [
    "!pip install ortools\n",
    "\n",
    "from __future__ import print_function\n",
    "from ortools.linear_solver import pywraplp\n",
    "\n",
    "\n",
    "def main():\n",
    "    # with MIP solver\n",
    "    # Create the mip solver with the CBC backend.\n",
    "    solver = pywraplp.Solver.CreateSolver('simple_mip_program', 'CBC')\n",
    "\n",
    "\n",
    "    #with the LP solver\n",
    "    #solver = pywraplp.Solver('simple_lp_program', pywraplp.Solver.GLOP_LINEAR_PROGRAMMING)\n",
    "\n",
    "    # integer varibale\n",
    "    infinity = solver.infinity()\n",
    "    # x and y are integer non-negative variables.\n",
    "    x = solver.IntVar(0.0, infinity, 'x')\n",
    "    y = solver.IntVar(0.0, infinity, 'y')\n",
    "\n",
    "    print('Number of variables =', solver.NumVariables())\n",
    "\n",
    "    # replace integer varibale  with continuous variables\n",
    "\n",
    "    #infinity = solver.infinity()\n",
    "    #x = solver.NumVar(0, infinity, 'x')\n",
    "    #y = solver.NumVar(0, infinity, 'y')\n",
    "\n",
    "    print('Number of variables =', solver.NumVariables())\n",
    "\n",
    "    # x + 7 * y <= 17.5.\n",
    "    solver.Add(x + 7 * y <= 17.5)\n",
    "\n",
    "    # x <= 3.5.\n",
    "    solver.Add(x <= 3.5)\n",
    "\n",
    "    print('Number of constraints =', solver.NumConstraints())\n",
    "\n",
    "    # Maximize x + 10 * y.\n",
    "    solver.Maximize(x + 10 * y)\n",
    "\n",
    "    status = solver.Solve()\n",
    "\n",
    "    if status == pywraplp.Solver.OPTIMAL:\n",
    "        print('Solution:')\n",
    "        print('Objective value =', solver.Objective().Value())\n",
    "        print('x =', x.solution_value())\n",
    "        print('y =', y.solution_value())\n",
    "    else:\n",
    "        print('The problem does not have an optimal solution.')\n",
    "\n",
    "    print('\\nAdvanced usage:')\n",
    "    print('Problem solved in %f milliseconds' % solver.wall_time())\n",
    "    print('Problem solved in %d iterations' % solver.iterations())\n",
    "    print('Problem solved in %d branch-and-bound nodes' % solver.nodes())\n",
    "\n",
    "\n",
    "if __name__ == '__main__':\n",
    "    main()"
   ]
  },
  {
   "cell_type": "markdown",
   "metadata": {},
   "source": [
    "### Example 2 \n",
    "#### The 0/1 Knapsack Problem\n",
    "\n",
    "    consider the solution of the 0/1 knapsack problem: given a set I of items, each one with a weight $w_{i}$ and estimated profit $p_{i}$, one wants to select a subset with maximum profit such that the summation of the weights of the selected items is less or equal to the knapsack capacity c. Considering a set of decision binary variables $x_{i}$ that receive value 1 if the i-th item is selected, or 0 if not, the resulting mathematical programming formulation is:\n"
   ]
  },
  {
   "cell_type": "markdown",
   "metadata": {},
   "source": [
    "\\begin{split}\\textrm{Maximize: }   &  \\\\\n",
    "                               &  \\sum_{i \\in I} p_i \\cdot x_i  \\\\\n",
    "\\textrm{Subject to: } & \\\\\n",
    "                               &  \\sum_{i \\in I} w_i \\cdot x_i \\leq c  \\\\\n",
    "                               &  x_i \\in \\{0,1\\} \\,\\,\\, \\forall i \\in I\\end{split}\n"
   ]
  },
  {
   "cell_type": "code",
   "execution_count": null,
   "metadata": {},
   "outputs": [],
   "source": [
    "# install mip library using python \n",
    "!pip install mip\n"
   ]
  },
  {
   "cell_type": "code",
   "execution_count": 5,
   "metadata": {},
   "outputs": [
    {
     "name": "stdout",
     "output_type": "stream",
     "text": [
      "selected items: [0, 3]\n"
     ]
    }
   ],
   "source": [
    "\n",
    "\n",
    "\n",
    "from mip import Model, xsum, maximize, BINARY\n",
    "\n",
    "p = [10, 13, 18, 31, 7, 15] # You can create a large list using 'input'\n",
    "w = [11, 15, 20, 35, 10, 33]\n",
    "c, I = 47, range(len(w))\n",
    "\n",
    "m = Model(\"knapsack\") # calling the model\n",
    "\n",
    "x = [m.add_var(var_type=BINARY) for i in I]\n",
    "\n",
    "m.objective = maximize(xsum(p[i] * x[i] for i in I))\n",
    "\n",
    "m += xsum(w[i] * x[i] for i in I) <= c\n",
    "\n",
    "m.optimize()\n",
    "\n",
    "selected = [i for i in I if x[i].x >= 0.99]\n",
    "print(\"selected items: {}\".format(selected))\n",
    "\n"
   ]
  },
  {
   "cell_type": "markdown",
   "metadata": {},
   "source": [
    "##### The purpose of this example is to illustrate solving ILP problems using GLPK in CVXOPT in Python.\n",
    "### Example 3\n",
    "\n"
   ]
  },
  {
   "cell_type": "code",
   "execution_count": 6,
   "metadata": {},
   "outputs": [],
   "source": [
    "from cvxopt.glpk import ilp\n",
    "import numpy as np\n",
    "from cvxopt import matrix"
   ]
  },
  {
   "cell_type": "markdown",
   "metadata": {},
   "source": [
    "We will be trying to solve the following ILP problem:\n",
    "    \n",
    "$$Min~x_0+x_1+x_2+x_3+x_4+x_5$$\n",
    "\n",
    "GIven the following constraints:\n",
    "\n",
    "$$x_0+x_1\\ge1$$\n",
    "$$x_0+x_1+x_5\\ge1$$\n",
    "$$x_2+x_3\\ge1$$\n",
    "$$x_2+x_3+x_4\\ge1$$\n",
    "$$x_3+x_4+x_5\\ge1$$\n",
    "$$x_1+x_4+x_5\\ge1$$\n",
    "$$x_0,x_1,x_2,x_3,x_4,x_5\\in~Z$$\n",
    "\n",
    "\n",
    "\n",
    "##### Now, GLPK ILP solver assumes the following form of the problem.\n",
    "    "
   ]
  },
  {
   "cell_type": "code",
   "execution_count": 8,
   "metadata": {},
   "outputs": [
    {
     "name": "stdout",
     "output_type": "stream",
     "text": [
      "Help on built-in function ilp in module cvxopt.glpk:\n",
      "\n",
      "ilp(...)\n",
      "    Solves a mixed integer linear program using GLPK.\n",
      "    \n",
      "    (status, x) = ilp(c, G, h, A, b, I, B)\n",
      "    \n",
      "    PURPOSE\n",
      "    Solves the mixed integer linear programming problem\n",
      "    \n",
      "        minimize    c'*x\n",
      "        subject to  G*x <= h\n",
      "                    A*x = b\n",
      "                    x[k] is integer for k in I\n",
      "                    x[k] is binary for k in B\n",
      "    \n",
      "    ARGUMENTS\n",
      "    c            nx1 dense 'd' matrix with n>=1\n",
      "    \n",
      "    G            mxn dense or sparse 'd' matrix with m>=1\n",
      "    \n",
      "    h            mx1 dense 'd' matrix\n",
      "    \n",
      "    A            pxn dense or sparse 'd' matrix with p>=0\n",
      "    \n",
      "    b            px1 dense 'd' matrix\n",
      "    \n",
      "    I            set of indices of integer variables\n",
      "    \n",
      "    B            set of indices of binary variables\n",
      "    \n",
      "    status       if status is 'optimal', 'feasible', or 'undefined',\n",
      "                 a value of x is returned and the status string \n",
      "                 gives the status of x.  Other possible values of              status are:  'invalid formulation', \n",
      "                 'infeasible problem', 'LP relaxation is primal \n",
      "                 infeasible', 'LP relaxation is dual infeasible', \n",
      "                 'unknown'.\n",
      "    \n",
      "    x            a (sub-)optimal solution if status is 'optimal', \n",
      "                 'feasible', or 'undefined'.  None otherwise\n",
      "\n",
      "None\n"
     ]
    }
   ],
   "source": [
    "print(help(ilp))\n"
   ]
  },
  {
   "cell_type": "markdown",
   "metadata": {},
   "source": [
    "#### Thus, for the given problem we have\n",
    "\n",
    "    1. c: is a 6*1 matrix (since $x_0,..x_x5$ are the decision variables)\n",
    "    2. G: -1* Coeff. Matrix (Coeff. matrix contains entries $g_{i,j}$ which are either 0 or 1 depending on whether $x_j$ is present in $i^{th}$ constraint or not. **NB**: -1 is needed since the expected form is Gx<=h, whereas we have >= inequalities\n",
    "    3. h: -1* ones(6*1). There are 6 constraints\n",
    "    4. A and b are empty\n",
    "    5. I={0,1,2,3,4,5} since all the decision variables are integer\n",
    "    6. B={} "
   ]
  },
  {
   "cell_type": "code",
   "execution_count": 10,
   "metadata": {},
   "outputs": [],
   "source": [
    "c=matrix(np.ones(6,dtype=float))"
   ]
  },
  {
   "cell_type": "code",
   "execution_count": 12,
   "metadata": {},
   "outputs": [
    {
     "name": "stdout",
     "output_type": "stream",
     "text": [
      "[ 1.00e+00]\n",
      "[ 1.00e+00]\n",
      "[ 1.00e+00]\n",
      "[ 1.00e+00]\n",
      "[ 1.00e+00]\n",
      "[ 1.00e+00]\n",
      "\n"
     ]
    }
   ],
   "source": [
    "print(c)"
   ]
  },
  {
   "cell_type": "code",
   "execution_count": 13,
   "metadata": {},
   "outputs": [],
   "source": [
    "coeff=np.array([[1,1,0,0,0,0],\n",
    "                [1,1,0,0,0,1],\n",
    "                [0,0,1,1,0,0],\n",
    "                [0,0,1,1,1,0],\n",
    "                [0,0,0,1,1,1],\n",
    "                [0,1,0,0,1,1]\n",
    "                ],dtype=float)"
   ]
  },
  {
   "cell_type": "code",
   "execution_count": 14,
   "metadata": {},
   "outputs": [],
   "source": [
    "G=matrix(-coeff)"
   ]
  },
  {
   "cell_type": "code",
   "execution_count": 15,
   "metadata": {},
   "outputs": [
    {
     "name": "stdout",
     "output_type": "stream",
     "text": [
      "[-1.00e+00 -1.00e+00 -0.00e+00 -0.00e+00 -0.00e+00 -0.00e+00]\n",
      "[-1.00e+00 -1.00e+00 -0.00e+00 -0.00e+00 -0.00e+00 -1.00e+00]\n",
      "[-0.00e+00 -0.00e+00 -1.00e+00 -1.00e+00 -0.00e+00 -0.00e+00]\n",
      "[-0.00e+00 -0.00e+00 -1.00e+00 -1.00e+00 -1.00e+00 -0.00e+00]\n",
      "[-0.00e+00 -0.00e+00 -0.00e+00 -1.00e+00 -1.00e+00 -1.00e+00]\n",
      "[-0.00e+00 -1.00e+00 -0.00e+00 -0.00e+00 -1.00e+00 -1.00e+00]\n",
      "\n"
     ]
    }
   ],
   "source": [
    "print (G)"
   ]
  },
  {
   "cell_type": "code",
   "execution_count": 16,
   "metadata": {},
   "outputs": [],
   "source": [
    "h=matrix(-1*np.ones(6))"
   ]
  },
  {
   "cell_type": "code",
   "execution_count": 19,
   "metadata": {},
   "outputs": [],
   "source": [
    "I=set(range(6))"
   ]
  },
  {
   "cell_type": "code",
   "execution_count": 18,
   "metadata": {},
   "outputs": [],
   "source": [
    "B=set()"
   ]
  },
  {
   "cell_type": "code",
   "execution_count": 20,
   "metadata": {},
   "outputs": [
    {
     "name": "stdout",
     "output_type": "stream",
     "text": [
      "{0, 1, 2, 3, 4, 5} set()\n"
     ]
    }
   ],
   "source": [
    "print(I,B)"
   ]
  },
  {
   "cell_type": "code",
   "execution_count": 21,
   "metadata": {},
   "outputs": [],
   "source": [
    "(status,x)=ilp(c,G,h,matrix(1., (0,6)),matrix(1., (0,1)),I,B)"
   ]
  },
  {
   "cell_type": "code",
   "execution_count": 22,
   "metadata": {},
   "outputs": [
    {
     "data": {
      "text/plain": [
       "'optimal'"
      ]
     },
     "execution_count": 22,
     "metadata": {},
     "output_type": "execute_result"
    }
   ],
   "source": [
    "status"
   ]
  },
  {
   "cell_type": "code",
   "execution_count": 24,
   "metadata": {},
   "outputs": [
    {
     "name": "stdout",
     "output_type": "stream",
     "text": [
      "[ 0.00e+00]\n",
      "[ 1.00e+00]\n",
      "[ 0.00e+00]\n",
      "[ 1.00e+00]\n",
      "[ 0.00e+00]\n",
      "[ 0.00e+00]\n",
      "\n"
     ]
    }
   ],
   "source": [
    "print(x)"
   ]
  },
  {
   "cell_type": "markdown",
   "metadata": {
    "colab": {
     "base_uri": "https://localhost:8080/",
     "height": 34
    },
    "colab_type": "code",
    "id": "SLPRnAobnv9n",
    "outputId": "8c48c2db-68ad-4c63-f28f-70389f65e46d"
   },
   "source": [
    "### Example 4\n",
    "\n",
    "#### The Traveling Salesman Problem\n",
    "\n",
    "    considering n points V={0,…,n−1} and a distance matrix Dn×n with elements ci,j∈R+, a solution consists in a set of exactly n (origin, destination) pairs indicating the itinerary of your trip, resulting in the following formulation:\n"
   ]
  },
  {
   "cell_type": "markdown",
   "metadata": {
    "colab": {},
    "colab_type": "code",
    "id": "LjE1p5Lanv9v",
    "outputId": "cd208843-f52e-4ea1-c2de-da6ae51052b9"
   },
   "source": [
    "\\begin{split}\\textrm{Minimize: }   &  \\\\\n",
    "&  \\sum_{i \\in I, j \\in I} c_{i,j} \\ldotp x_{i,j} \\\\\n",
    "\\textrm{Subject to: }   &  \\\\\n",
    "& \\sum_{j \\in V \\setminus \\{i\\}} x_{i,j} = 1 \\,\\,\\, \\forall i \\in V  \\\\\n",
    "& \\sum_{i \\in V \\setminus \\{j\\}} x_{i,j} = 1 \\,\\,\\, \\forall j \\in V \\\\\n",
    "& y_{i} -(n+1)\\ldotp x_{i,j} \\geq y_{j} -n  \\,\\,\\, \\forall i \\in V\\setminus \\{0\\}, j \\in V\\setminus \\{0,i\\}\\\\\n",
    "& x_{i,j} \\in \\{0,1\\} \\,\\,\\, \\forall i \\in V, j \\in V \\\\\n",
    "& y_i \\geq 0 \\,\\,\\, \\forall i \\in V\\end{split}"
   ]
  },
  {
   "cell_type": "code",
   "execution_count": 13,
   "metadata": {
    "colab": {},
    "colab_type": "code",
    "id": "ff1bjxIqnv91",
    "outputId": "0ffc990b-23a8-48af-d41c-b5428f4d0fe7"
   },
   "outputs": [
    {
     "name": "stdout",
     "output_type": "stream",
     "text": [
      "route with total distance 547 found: Antwerp -> Bruges -> Ghent -> Grand-Place de Bruxelles -> Waterloo -> Mons -> Namur -> Dinant -> Remouchamps -> Montagne de Bueren -> C-Mine -> Hasselt -> Leuven -> Mechelen -> Antwerp\n"
     ]
    }
   ],
   "source": [
    "from itertools import product\n",
    "from sys import stdout as out\n",
    "from mip import Model, xsum, minimize, BINARY\n",
    "\n",
    "# names of places to visit\n",
    "places = ['Antwerp', 'Bruges', 'C-Mine', 'Dinant', 'Ghent',\n",
    "          'Grand-Place de Bruxelles', 'Hasselt', 'Leuven',     #names of the places to visit are informed\n",
    "          'Mechelen', 'Mons', 'Montagne de Bueren', 'Namur',\n",
    "          'Remouchamps', 'Waterloo']\n",
    "\n",
    "# distances in an upper triangular matrix\n",
    "dists = [[83, 81, 113, 52, 42, 73, 44, 23, 91, 105, 90, 124, 57],\n",
    "         [161, 160, 39, 89, 151, 110, 90, 99, 177, 143, 193, 100],     #distances are informed in an upper triangular matrix\n",
    "         [90, 125, 82, 13, 57, 71, 123, 38, 72, 59, 82],\n",
    "         [123, 77, 81, 71, 91, 72, 64, 24, 62, 63],\n",
    "         [51, 114, 72, 54, 69, 139, 105, 155, 62],\n",
    "         [70, 25, 22, 52, 90, 56, 105, 16],\n",
    "         [45, 61, 111, 36, 61, 57, 70],\n",
    "         [23, 71, 67, 48, 85, 29],\n",
    "         [74, 89, 69, 107, 36],\n",
    "         [117, 65, 125, 43],\n",
    "         [54, 22, 84],\n",
    "         [60, 44],\n",
    "         [97],\n",
    "         []]\n",
    "\n",
    "# number of nodes and list of vertices\n",
    "n, V = len(dists), set(range(len(dists)))\n",
    "\n",
    "# distances matrix\n",
    "c = [[0 if i == j\n",
    "      else dists[i][j-i-1] if j > i\n",
    "      else dists[j][i-j-1]\n",
    "      for j in V] for i in V]\n",
    "\n",
    "model = Model() #creates an empty MIP model\n",
    "\n",
    "# binary variables indicating if arc (i,j) is used on the route or not\n",
    "x = [[model.add_var(var_type=BINARY) for j in V] for i in V]\n",
    "\n",
    "# continuous variable to prevent subtours: each city will have a\n",
    "# different sequential id in the planned route except the first one\n",
    "y = [model.add_var() for i in V]\n",
    "\n",
    "# objective function: minimize the distance\n",
    "#all binary decision variables for the selection of arcs are created and their references are stored a n×n matrix named x.\n",
    "model.objective = minimize(xsum(c[i][j]*x[i][j] for i in V for j in V))  \n",
    "\n",
    "\n",
    "#Differently from the x variables, y variables are not required to be binary or integral, \n",
    "#they can be declared just as continuous variables, the default variable type.\n",
    "# constraint : leave each city only once\n",
    "for i in V:\n",
    "    model += xsum(x[i][j] for j in V - {i}) == 1\n",
    "\n",
    "# constraint : enter each city only once\n",
    "for i in V:\n",
    "    model += xsum(x[j][i] for j in V - {i}) == 1\n",
    "\n",
    "# subtour elimination\n",
    "for (i, j) in product(V - {0}, V - {0}):\n",
    "    if i != j:\n",
    "        model += y[i] - (n+1)*x[i][j] >= y[j]-n\n",
    "\n",
    "# optimizing\n",
    "model.optimize()\n",
    "\n",
    "# checking if a solution was found\n",
    "if model.num_solutions:\n",
    "    out.write('route with total distance %g found: %s'\n",
    "              % (model.objective_value, places[0]))\n",
    "    nc = 0\n",
    "    while True:\n",
    "        nc = [i for i in V if x[nc][i].x >= 0.99][0]\n",
    "        out.write(' -> %s' % places[nc])\n",
    "        if nc == 0:\n",
    "            break\n",
    "    out.write('\\n')"
   ]
  }
 ],
 "metadata": {
  "colab": {
   "name": "Tutorial on cvxopt .ipynb",
   "provenance": []
  },
  "kernelspec": {
   "display_name": "Python 3",
   "language": "python",
   "name": "python3"
  },
  "language_info": {
   "codemirror_mode": {
    "name": "ipython",
    "version": 3
   },
   "file_extension": ".py",
   "mimetype": "text/x-python",
   "name": "python",
   "nbconvert_exporter": "python",
   "pygments_lexer": "ipython3",
   "version": "3.7.1"
  }
 },
 "nbformat": 4,
 "nbformat_minor": 1
}
