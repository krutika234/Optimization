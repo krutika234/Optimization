{
 "cells": [
  {
   "cell_type": "markdown",
   "metadata": {
    "colab": {
     "base_uri": "https://localhost:8080/",
     "height": 34
    },
    "colab_type": "code",
    "id": "SLPRnAobnv9n",
    "outputId": "8c48c2db-68ad-4c63-f28f-70389f65e46d"
   },
   "source": [
    "### Example 1\n",
    "\n",
    "#### The Traveling Salesman Problem\n",
    "\n",
    "    considering n points V={0,…,n−1} and a distance matrix Dn×n with elements ci,j∈R+, a solution consists in a set of exactly n (origin, destination) pairs indicating the itinerary of your trip, resulting in the following formulation:\n"
   ]
  },
  {
   "cell_type": "markdown",
   "metadata": {
    "colab": {},
    "colab_type": "code",
    "id": "LjE1p5Lanv9v",
    "outputId": "cd208843-f52e-4ea1-c2de-da6ae51052b9"
   },
   "source": [
    "\\begin{split}\\textrm{Minimize: }   &  \\\\\n",
    "&  \\sum_{i \\in I, j \\in I} c_{i,j} \\ldotp x_{i,j} \\\\\n",
    "\\textrm{Subject to: }   &  \\\\\n",
    "& \\sum_{j \\in V \\setminus \\{i\\}} x_{i,j} = 1 \\,\\,\\, \\forall i \\in V  \\\\\n",
    "& \\sum_{i \\in V \\setminus \\{j\\}} x_{i,j} = 1 \\,\\,\\, \\forall j \\in V \\\\\n",
    "& y_{i} -(n+1)\\ldotp x_{i,j} \\geq y_{j} -n  \\,\\,\\, \\forall i \\in V\\setminus \\{0\\}, j \\in V\\setminus \\{0,i\\}\\\\\n",
    "& x_{i,j} \\in \\{0,1\\} \\,\\,\\, \\forall i \\in V, j \\in V \\\\\n",
    "& y_i \\geq 0 \\,\\,\\, \\forall i \\in V\\end{split}"
   ]
  },
  {
   "cell_type": "code",
   "execution_count": 13,
   "metadata": {
    "colab": {},
    "colab_type": "code",
    "id": "ff1bjxIqnv91",
    "outputId": "0ffc990b-23a8-48af-d41c-b5428f4d0fe7"
   },
   "outputs": [
    {
     "name": "stdout",
     "output_type": "stream",
     "text": [
      "route with total distance 547 found: Antwerp -> Bruges -> Ghent -> Grand-Place de Bruxelles -> Waterloo -> Mons -> Namur -> Dinant -> Remouchamps -> Montagne de Bueren -> C-Mine -> Hasselt -> Leuven -> Mechelen -> Antwerp\n"
     ]
    }
   ],
   "source": [
    "from itertools import product\n",
    "from sys import stdout as out\n",
    "from mip import Model, xsum, minimize, BINARY\n",
    "\n",
    "# names of places to visit\n",
    "places = ['Antwerp', 'Bruges', 'C-Mine', 'Dinant', 'Ghent',\n",
    "          'Grand-Place de Bruxelles', 'Hasselt', 'Leuven',     #names of the places to visit are informed\n",
    "          'Mechelen', 'Mons', 'Montagne de Bueren', 'Namur',\n",
    "          'Remouchamps', 'Waterloo']\n",
    "\n",
    "# distances in an upper triangular matrix\n",
    "dists = [[83, 81, 113, 52, 42, 73, 44, 23, 91, 105, 90, 124, 57],\n",
    "         [161, 160, 39, 89, 151, 110, 90, 99, 177, 143, 193, 100],     #distances are informed in an upper triangular matrix\n",
    "         [90, 125, 82, 13, 57, 71, 123, 38, 72, 59, 82],\n",
    "         [123, 77, 81, 71, 91, 72, 64, 24, 62, 63],\n",
    "         [51, 114, 72, 54, 69, 139, 105, 155, 62],\n",
    "         [70, 25, 22, 52, 90, 56, 105, 16],\n",
    "         [45, 61, 111, 36, 61, 57, 70],\n",
    "         [23, 71, 67, 48, 85, 29],\n",
    "         [74, 89, 69, 107, 36],\n",
    "         [117, 65, 125, 43],\n",
    "         [54, 22, 84],\n",
    "         [60, 44],\n",
    "         [97],\n",
    "         []]\n",
    "\n",
    "# number of nodes and list of vertices\n",
    "n, V = len(dists), set(range(len(dists)))\n",
    "\n",
    "# distances matrix\n",
    "c = [[0 if i == j\n",
    "      else dists[i][j-i-1] if j > i\n",
    "      else dists[j][i-j-1]\n",
    "      for j in V] for i in V]\n",
    "\n",
    "model = Model() #creates an empty MIP model\n",
    "\n",
    "# binary variables indicating if arc (i,j) is used on the route or not\n",
    "x = [[model.add_var(var_type=BINARY) for j in V] for i in V]\n",
    "\n",
    "# continuous variable to prevent subtours: each city will have a\n",
    "# different sequential id in the planned route except the first one\n",
    "y = [model.add_var() for i in V]\n",
    "\n",
    "# objective function: minimize the distance\n",
    "#all binary decision variables for the selection of arcs are created and their references are stored a n×n matrix named x.\n",
    "model.objective = minimize(xsum(c[i][j]*x[i][j] for i in V for j in V))  \n",
    "\n",
    "\n",
    "#Differently from the x variables, y variables are not required to be binary or integral, \n",
    "#they can be declared just as continuous variables, the default variable type.\n",
    "# constraint : leave each city only once\n",
    "for i in V:\n",
    "    model += xsum(x[i][j] for j in V - {i}) == 1\n",
    "\n",
    "# constraint : enter each city only once\n",
    "for i in V:\n",
    "    model += xsum(x[j][i] for j in V - {i}) == 1\n",
    "\n",
    "# subtour elimination\n",
    "for (i, j) in product(V - {0}, V - {0}):\n",
    "    if i != j:\n",
    "        model += y[i] - (n+1)*x[i][j] >= y[j]-n\n",
    "\n",
    "# optimizing\n",
    "model.optimize()\n",
    "\n",
    "# checking if a solution was found\n",
    "if model.num_solutions:\n",
    "    out.write('route with total distance %g found: %s'\n",
    "              % (model.objective_value, places[0]))\n",
    "    nc = 0\n",
    "    while True:\n",
    "        nc = [i for i in V if x[nc][i].x >= 0.99][0]\n",
    "        out.write(' -> %s' % places[nc])\n",
    "        if nc == 0:\n",
    "            break\n",
    "    out.write('\\n')"
   ]
  },
  {
   "cell_type": "markdown",
   "metadata": {
    "colab_type": "text",
    "id": "E08LPIltnv-D"
   },
   "source": [
    "\n",
    "### Example 2 \n",
    "#### The 0/1 Knapsack Problem\n",
    "\n",
    "    consider the solution of the 0/1 knapsack problem: given a set I of items, each one with a weight $w_{i}$ and estimated profit $p_{i}$, one wants to select a subset with maximum profit such that the summation of the weights of the selected items is less or equal to the knapsack capacity c. Considering a set of decision binary variables $x_{i}$ that receive value 1 if the i-th item is selected, or 0 if not, the resulting mathematical programming formulation is:\n",
    "\n",
    "\n"
   ]
  },
  {
   "cell_type": "markdown",
   "metadata": {},
   "source": [
    "\\begin{split}\\textrm{Maximize: }   &  \\\\\n",
    "                               &  \\sum_{i \\in I} p_i \\cdot x_i  \\\\\n",
    "\\textrm{Subject to: } & \\\\\n",
    "                               &  \\sum_{i \\in I} w_i \\cdot x_i \\leq c  \\\\\n",
    "                               &  x_i \\in \\{0,1\\} \\,\\,\\, \\forall i \\in I\\end{split}\n"
   ]
  },
  {
   "cell_type": "code",
   "execution_count": 10,
   "metadata": {},
   "outputs": [
    {
     "name": "stdout",
     "output_type": "stream",
     "text": [
      "Requirement already satisfied: mip in c:\\programdata\\anaconda3\\lib\\site-packages (1.11.0)\n",
      "Requirement already satisfied: cffi in c:\\programdata\\anaconda3\\lib\\site-packages (from mip) (1.11.5)\n",
      "Requirement already satisfied: pycparser in c:\\programdata\\anaconda3\\lib\\site-packages (from cffi->mip) (2.19)\n"
     ]
    },
    {
     "name": "stderr",
     "output_type": "stream",
     "text": [
      "WARNING: pip is being invoked by an old script wrapper. This will fail in a future version of pip.\n",
      "Please see https://github.com/pypa/pip/issues/5599 for advice on fixing the underlying issue.\n",
      "To avoid this problem you can invoke Python with '-m pip' instead of running pip directly.\n"
     ]
    }
   ],
   "source": [
    "# install mip library using python \n",
    "!pip install mip"
   ]
  },
  {
   "cell_type": "code",
   "execution_count": 12,
   "metadata": {
    "colab": {},
    "colab_type": "code",
    "id": "PLo2Yb_Inv-D",
    "outputId": "1a42d8b2-d714-4b6b-a528-9a7fc1a983b3"
   },
   "outputs": [
    {
     "name": "stdout",
     "output_type": "stream",
     "text": [
      "selected items: [0, 3]\n"
     ]
    }
   ],
   "source": [
    "\n",
    "\n",
    "from mip import Model, xsum, maximize, BINARY\n",
    "\n",
    "p = [10, 13, 18, 31, 7, 15] # You can create a large list using 'input'\n",
    "w = [11, 15, 20, 35, 10, 33]\n",
    "c, I = 47, range(len(w))\n",
    "\n",
    "m = Model(\"knapsack\") # calling the model\n",
    "\n",
    "x = [m.add_var(var_type=BINARY) for i in I]\n",
    "\n",
    "m.objective = maximize(xsum(p[i] * x[i] for i in I))\n",
    "\n",
    "m += xsum(w[i] * x[i] for i in I) <= c\n",
    "\n",
    "m.optimize()\n",
    "\n",
    "selected = [i for i in I if x[i].x >= 0.99]\n",
    "print(\"selected items: {}\".format(selected))\n",
    "\n"
   ]
  },
  {
   "cell_type": "markdown",
   "metadata": {
    "colab": {},
    "colab_type": "code",
    "id": "Fwt4-eOsokKg"
   },
   "source": [
    "### Example 3\n",
    "\n",
    "#### We will be trying to solve the following ILP problem:\n",
    "\n",
    "##### Min $x_{0}+x_{1}+x_{2}+x_{3}+x_{4}+x_{5}$\n",
    "\n",
    "##### GIven the following constraints:\n",
    "\n",
    "$x_{0}+x_{1}\\geq1 $\n",
    "\n",
    "$x_{0}+x_{1}+x_{5}\\geq1 $\n",
    "\n",
    "$x_{2}+x_{3}\\geq1 $\n",
    "\n",
    "$x_{2}+x_{3}+x_{4}\\geq1 $\n",
    "\n",
    "$x_{3}+x_{4}+x_{5}\\geq1 $\n",
    "\n",
    "$x_{1}+x_{4}+x_{5}\\geq1 $\n",
    "\n",
    "$x_{0},x_{1},x_{2},x_{3},x_{4},x_{5}\\in Z$\n",
    "\n",
    "##### Now, GLPK ILP solver assumes the following form of the problem."
   ]
  },
  {
   "cell_type": "code",
   "execution_count": null,
   "metadata": {
    "colab_type": "text",
    "id": "azR7r6nroo_p"
   },
   "outputs": [],
   "source": [
    "# importing the libraries\n",
    "from cvxopt.glpk import ilp\n",
    "import numpy as np\n",
    "from cvxopt import matrix\n"
   ]
  },
  {
   "cell_type": "code",
   "execution_count": 11,
   "metadata": {
    "colab": {
     "base_uri": "https://localhost:8080/",
     "height": 136
    },
    "colab_type": "code",
    "id": "RppnWx8ap45k",
    "outputId": "425c2d2b-a5bc-4f06-b292-99d42f233c3f"
   },
   "outputs": [
    {
     "name": "stdout",
     "output_type": "stream",
     "text": [
      "[ 1.00e+00]\n",
      "[ 1.00e+00]\n",
      "[ 1.00e+00]\n",
      "[ 1.00e+00]\n",
      "[ 1.00e+00]\n",
      "[ 1.00e+00]\n",
      "\n"
     ]
    }
   ],
   "source": [
    "\n",
    "c=matrix(np.ones(6,dtype=float))\n",
    "print (c)"
   ]
  },
  {
   "cell_type": "code",
   "execution_count": 12,
   "metadata": {
    "colab": {},
    "colab_type": "code",
    "id": "4k1QT0YUqKAv"
   },
   "outputs": [],
   "source": [
    "\n",
    "coeff=np.array([[1,1,0,0,0,0],\n",
    "                [1,1,0,0,0,1],\n",
    "                [0,0,1,1,0,0],\n",
    "                [0,0,1,1,1,0],\n",
    "                [0,0,0,1,1,1],\n",
    "                [0,1,0,0,1,1]\n",
    "                ],dtype=float)"
   ]
  },
  {
   "cell_type": "code",
   "execution_count": 14,
   "metadata": {
    "colab": {
     "base_uri": "https://localhost:8080/",
     "height": 136
    },
    "colab_type": "code",
    "id": "zLbszUrhqNYc",
    "outputId": "327955c5-4d93-42a2-fa4a-94c41ffcef7f"
   },
   "outputs": [
    {
     "name": "stdout",
     "output_type": "stream",
     "text": [
      "[-1.00e+00 -1.00e+00 -0.00e+00 -0.00e+00 -0.00e+00 -0.00e+00]\n",
      "[-1.00e+00 -1.00e+00 -0.00e+00 -0.00e+00 -0.00e+00 -1.00e+00]\n",
      "[-0.00e+00 -0.00e+00 -1.00e+00 -1.00e+00 -0.00e+00 -0.00e+00]\n",
      "[-0.00e+00 -0.00e+00 -1.00e+00 -1.00e+00 -1.00e+00 -0.00e+00]\n",
      "[-0.00e+00 -0.00e+00 -0.00e+00 -1.00e+00 -1.00e+00 -1.00e+00]\n",
      "[-0.00e+00 -1.00e+00 -0.00e+00 -0.00e+00 -1.00e+00 -1.00e+00]\n",
      "\n"
     ]
    }
   ],
   "source": [
    "\n",
    "G=matrix(-coeff)\n",
    "print (G)"
   ]
  },
  {
   "cell_type": "code",
   "execution_count": 15,
   "metadata": {
    "colab": {},
    "colab_type": "code",
    "id": "b14bFpuBqX35"
   },
   "outputs": [],
   "source": [
    "\n",
    "h=matrix(-1*np.ones(6))"
   ]
  },
  {
   "cell_type": "code",
   "execution_count": 18,
   "metadata": {
    "colab": {},
    "colab_type": "code",
    "id": "Owq8e5TZqces"
   },
   "outputs": [],
   "source": [
    "\n",
    "I=set(range(6))"
   ]
  },
  {
   "cell_type": "code",
   "execution_count": 19,
   "metadata": {
    "colab": {
     "base_uri": "https://localhost:8080/",
     "height": 34
    },
    "colab_type": "code",
    "id": "tKWNJtsvqfZO",
    "outputId": "1fb4199b-cf02-4717-db20-44500622716a"
   },
   "outputs": [
    {
     "name": "stdout",
     "output_type": "stream",
     "text": [
      "{0, 1, 2, 3, 4, 5} set()\n"
     ]
    }
   ],
   "source": [
    "B=set()\n",
    "print (I,B)"
   ]
  },
  {
   "cell_type": "code",
   "execution_count": 20,
   "metadata": {
    "colab": {},
    "colab_type": "code",
    "id": "UhWEIbbtqsfO"
   },
   "outputs": [],
   "source": [
    "\n",
    "(status,x)=ilp(c,G,h,matrix(1., (0,6)),matrix(1., (0,1)),I,B)"
   ]
  },
  {
   "cell_type": "code",
   "execution_count": 21,
   "metadata": {
    "colab": {
     "base_uri": "https://localhost:8080/",
     "height": 35
    },
    "colab_type": "code",
    "id": "2_YXQubJqwZe",
    "outputId": "77240d17-6a46-449b-f1c1-d0ea190627d1"
   },
   "outputs": [
    {
     "data": {
      "application/vnd.google.colaboratory.intrinsic+json": {
       "type": "string"
      },
      "text/plain": [
       "'optimal'"
      ]
     },
     "execution_count": 21,
     "metadata": {
      "tags": []
     },
     "output_type": "execute_result"
    }
   ],
   "source": [
    "\n",
    "status"
   ]
  },
  {
   "cell_type": "code",
   "execution_count": 22,
   "metadata": {
    "colab": {
     "base_uri": "https://localhost:8080/",
     "height": 136
    },
    "colab_type": "code",
    "id": "wyMOxKuTq0d0",
    "outputId": "12c1ccc8-75fe-4fd7-b211-3809f3b11f6f"
   },
   "outputs": [
    {
     "name": "stdout",
     "output_type": "stream",
     "text": [
      "[ 0.00e+00]\n",
      "[ 1.00e+00]\n",
      "[ 0.00e+00]\n",
      "[ 1.00e+00]\n",
      "[ 0.00e+00]\n",
      "[ 0.00e+00]\n",
      "\n"
     ]
    }
   ],
   "source": [
    "\n",
    "print (x)"
   ]
  },
  {
   "cell_type": "code",
   "execution_count": 23,
   "metadata": {
    "colab": {},
    "colab_type": "code",
    "id": "_ZKNyvr-q7qs"
   },
   "outputs": [],
   "source": [
    "(status,x)=ilp(c,G,h,matrix(1., (0,6)),matrix(1., (0,1)),B,I)"
   ]
  },
  {
   "cell_type": "code",
   "execution_count": 25,
   "metadata": {
    "colab": {
     "base_uri": "https://localhost:8080/",
     "height": 153
    },
    "colab_type": "code",
    "id": "czk9cmQfq9Ob",
    "outputId": "f33311c6-f4e3-434c-a222-9d49e9f687b7"
   },
   "outputs": [
    {
     "name": "stdout",
     "output_type": "stream",
     "text": [
      "optimal\n",
      "[ 0.00e+00]\n",
      "[ 1.00e+00]\n",
      "[ 0.00e+00]\n",
      "[ 1.00e+00]\n",
      "[ 0.00e+00]\n",
      "[ 0.00e+00]\n",
      "\n"
     ]
    }
   ],
   "source": [
    "print (status)\n",
    "print (x)"
   ]
  }
 ],
 "metadata": {
  "colab": {
   "name": "Tutorial on cvxopt .ipynb",
   "provenance": []
  },
  "kernelspec": {
   "display_name": "Python 3",
   "language": "python",
   "name": "python3"
  },
  "language_info": {
   "codemirror_mode": {
    "name": "ipython",
    "version": 3
   },
   "file_extension": ".py",
   "mimetype": "text/x-python",
   "name": "python",
   "nbconvert_exporter": "python",
   "pygments_lexer": "ipython3",
   "version": "3.7.1"
  }
 },
 "nbformat": 4,
 "nbformat_minor": 1
}
