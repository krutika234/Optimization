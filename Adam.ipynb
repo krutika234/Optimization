{
  "nbformat": 4,
  "nbformat_minor": 0,
  "metadata": {
    "colab": {
      "name": "Adam.ipynb",
      "provenance": [],
      "include_colab_link": true
    },
    "kernelspec": {
      "name": "python3",
      "display_name": "Python 3"
    }
  },
  "cells": [
    {
      "cell_type": "markdown",
      "metadata": {
        "id": "view-in-github",
        "colab_type": "text"
      },
      "source": [
        "<a href=\"https://colab.research.google.com/github/krutika234/Optimization/blob/master/Adam.ipynb\" target=\"_parent\"><img src=\"https://colab.research.google.com/assets/colab-badge.svg\" alt=\"Open In Colab\"/></a>"
      ]
    },
    {
      "cell_type": "code",
      "metadata": {
        "id": "58gMhJgK6vSE",
        "colab_type": "code",
        "colab": {
          "base_uri": "https://localhost:8080/",
          "height": 54
        },
        "outputId": "7c82dbb9-14d4-4755-a7a6-3898ff86f124"
      },
      "source": [
        "import math\n",
        "\n",
        "alpha = 0.01\n",
        "beta_1 = 0.9\n",
        "beta_2 = 0.999\t\t\t\t\t\t#initialize the values of the parameters\n",
        "epsilon = 1e-8\n",
        "def func(x):\n",
        "\treturn x*x -4*x + 4\n",
        "def grad_func(x):\t\t\t\t\t#calculates the gradient\n",
        "\treturn 2*x - 4\n",
        "theta_0 = 0\t\t\t\t\t\t#initialize the vector\n",
        "m_t = 0 \n",
        "v_t = 0 \n",
        "t = 0\n",
        "\n",
        "while (1):\t\t\t\t\t#till it gets converged\n",
        "\tt+=1\n",
        "\tg_t = grad_func(theta_0)\t\t#computes the gradient of the stochastic function\n",
        "\tm_t = beta_1*m_t + (1-beta_1)*g_t\t#updates the moving averages of the gradient\n",
        "\tv_t = beta_2*v_t + (1-beta_2)*(g_t*g_t)\t#updates the moving averages of the squared gradient\n",
        "\tm_cap = m_t/(1-(beta_1**t))\t\t#calculates the bias-corrected estimates\n",
        "\tv_cap = v_t/(1-(beta_2**t))\t\t#calculates the bias-corrected estimates\n",
        "\ttheta_0_prev = theta_0\t\t\t\t\t\t\t\t\n",
        "\ttheta_0 = theta_0 - (alpha*m_cap)/(math.sqrt(v_cap)+epsilon)\t#updates the parameters\n",
        "\tif(theta_0 == theta_0_prev):\t\t#checks if it is converged or not\n",
        "\t\tbreak\n",
        "print (func(theta_0))\n",
        "print (theta_0)"
      ],
      "execution_count": null,
      "outputs": [
        {
          "output_type": "stream",
          "text": [
            "0.0\n",
            "2.0\n"
          ],
          "name": "stdout"
        }
      ]
    },
    {
      "cell_type": "code",
      "metadata": {
        "id": "FvkF-yseFacq",
        "colab_type": "code",
        "colab": {}
      },
      "source": [
        ""
      ],
      "execution_count": null,
      "outputs": []
    }
  ]
}